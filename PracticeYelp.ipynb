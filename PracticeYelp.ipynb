{
 "cells": [
  {
   "cell_type": "markdown",
   "id": "f13ac916-1625-43e6-9351-97efa8e31b3e",
   "metadata": {},
   "source": [
    "# YelpApi \n",
    "Nokuthula Mchunu"
   ]
  },
  {
   "cell_type": "code",
   "execution_count": 1,
   "id": "a98f23bf-167d-4e7f-82e2-ba1222842d6f",
   "metadata": {},
   "outputs": [
    {
     "data": {
      "text/plain": [
       "dict_keys(['Client-id', 'api-key'])"
      ]
     },
     "execution_count": 1,
     "metadata": {},
     "output_type": "execute_result"
    }
   ],
   "source": [
    "import json \n",
    "with open('/users/noksmchunu/.secret/yelp_api.json')as f:\n",
    "    login  = json.load(f)\n",
    "\n",
    "login.keys()"
   ]
  },
  {
   "cell_type": "code",
   "execution_count": 4,
   "id": "91b79f72-dbf2-48f1-870c-ea09373869f4",
   "metadata": {},
   "outputs": [
    {
     "data": {
      "text/plain": [
       "<yelpapi.yelpapi.YelpAPI at 0x1071355d0>"
      ]
     },
     "execution_count": 4,
     "metadata": {},
     "output_type": "execute_result"
    }
   ],
   "source": [
    "from yelpapi import YelpAPI\n",
    "yelp_api  = YelpAPI(login['api-key'],timeout_s=5.0)\n",
    "yelp_api"
   ]
  },
  {
   "cell_type": "code",
   "execution_count": 3,
   "id": "fddc4a29-e192-4728-b563-47ea1b359c5b",
   "metadata": {},
   "outputs": [
    {
     "name": "stdout",
     "output_type": "stream",
     "text": [
      "Collecting yelpapi\n",
      "  Downloading yelpapi-2.5.1-py3-none-any.whl (7.4 kB)\n",
      "Requirement already satisfied: requests in /opt/homebrew/Caskroom/miniforge/base/envs/dojo-env/lib/python3.10/site-packages (from yelpapi) (2.29.0)\n",
      "Requirement already satisfied: urllib3<1.27,>=1.21.1 in /opt/homebrew/Caskroom/miniforge/base/envs/dojo-env/lib/python3.10/site-packages (from requests->yelpapi) (1.26.15)\n",
      "Requirement already satisfied: idna<4,>=2.5 in /opt/homebrew/Caskroom/miniforge/base/envs/dojo-env/lib/python3.10/site-packages (from requests->yelpapi) (3.4)\n",
      "Requirement already satisfied: certifi>=2017.4.17 in /opt/homebrew/Caskroom/miniforge/base/envs/dojo-env/lib/python3.10/site-packages (from requests->yelpapi) (2023.5.7)\n",
      "Requirement already satisfied: charset-normalizer<4,>=2 in /opt/homebrew/Caskroom/miniforge/base/envs/dojo-env/lib/python3.10/site-packages (from requests->yelpapi) (2.0.4)\n",
      "Installing collected packages: yelpapi\n",
      "Successfully installed yelpapi-2.5.1\n"
     ]
    }
   ],
   "source": [
    "! pip install yelpapi"
   ]
  },
  {
   "cell_type": "code",
   "execution_count": 6,
   "id": "e94fe887-abc0-41b5-96e3-3ba8a9175e97",
   "metadata": {},
   "outputs": [
    {
     "name": "stdout",
     "output_type": "stream",
     "text": [
      "<class 'dict'>\n"
     ]
    },
    {
     "data": {
      "text/plain": [
       "dict_keys(['businesses', 'total', 'region'])"
      ]
     },
     "execution_count": 6,
     "metadata": {},
     "output_type": "execute_result"
    }
   ],
   "source": [
    "results = yelp_api.search_query(location ='Baltimore, MD', term ='Crab Cake')\n",
    "print(type(results))\n",
    "results.keys()"
   ]
  },
  {
   "cell_type": "code",
   "execution_count": null,
   "id": "d85aa541-8135-4751-978d-efad3cfcd067",
   "metadata": {},
   "outputs": [],
   "source": []
  }
 ],
 "metadata": {
  "kernelspec": {
   "display_name": "Python 3 (ipykernel)",
   "language": "python",
   "name": "python3"
  },
  "language_info": {
   "codemirror_mode": {
    "name": "ipython",
    "version": 3
   },
   "file_extension": ".py",
   "mimetype": "text/x-python",
   "name": "python",
   "nbconvert_exporter": "python",
   "pygments_lexer": "ipython3",
   "version": "3.10.10"
  },
  "widgets": {
   "application/vnd.jupyter.widget-state+json": {
    "state": {},
    "version_major": 2,
    "version_minor": 0
   }
  }
 },
 "nbformat": 4,
 "nbformat_minor": 5
}
