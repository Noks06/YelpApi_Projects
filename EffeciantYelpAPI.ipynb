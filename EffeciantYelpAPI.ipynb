{
 "cells": [
  {
   "cell_type": "markdown",
   "id": "5f069760-dfdf-4ca9-97d4-6ef679b7dd93",
   "metadata": {},
   "source": [
    "# Effeciant Yelp API Core \n",
    "Nokuthula Mchunu"
   ]
  },
  {
   "cell_type": "markdown",
   "id": "3a33929f-5353-427f-aa54-5bcb4befce90",
   "metadata": {},
   "source": [
    "For this assignment,  will be working with the Yelp API.\n",
    "Will use the Yelp API to search your favorite city for a African cuisine .\n",
    "\n",
    "Extract all of the results from your search and compile them into one dataframe using a for loop."
   ]
  },
  {
   "cell_type": "code",
   "execution_count": null,
   "id": "bb7207ca-1519-4744-be43-7fcb0f06ef57",
   "metadata": {},
   "outputs": [],
   "source": [
    "# import necessary liberies "
   ]
  },
  {
   "cell_type": "code",
   "execution_count": null,
   "id": "bc505c16-944d-4c1d-8539-15853acc2115",
   "metadata": {},
   "outputs": [],
   "source": []
  }
 ],
 "metadata": {
  "kernelspec": {
   "display_name": "Python 3 (ipykernel)",
   "language": "python",
   "name": "python3"
  },
  "language_info": {
   "codemirror_mode": {
    "name": "ipython",
    "version": 3
   },
   "file_extension": ".py",
   "mimetype": "text/x-python",
   "name": "python",
   "nbconvert_exporter": "python",
   "pygments_lexer": "ipython3",
   "version": "3.10.10"
  },
  "widgets": {
   "application/vnd.jupyter.widget-state+json": {
    "state": {},
    "version_major": 2,
    "version_minor": 0
   }
  }
 },
 "nbformat": 4,
 "nbformat_minor": 5
}
