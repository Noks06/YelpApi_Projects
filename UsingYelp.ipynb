{
 "cells": [
  {
   "cell_type": "code",
   "execution_count": 21,
   "id": "d65d4587-918c-4ea1-8c51-be65af29e629",
   "metadata": {},
   "outputs": [
    {
     "ename": "SyntaxError",
     "evalue": "invalid syntax (3678206608.py, line 2)",
     "output_type": "error",
     "traceback": [
      "\u001b[0;36m  Cell \u001b[0;32mIn[21], line 2\u001b[0;36m\u001b[0m\n\u001b[0;31m    Nokuthula Mchunu\u001b[0m\n\u001b[0m              ^\u001b[0m\n\u001b[0;31mSyntaxError\u001b[0m\u001b[0;31m:\u001b[0m invalid syntax\n"
     ]
    }
   ],
   "source": [
    "# Using Yelp Practice \n",
    "Nokuthula Mchunu"
   ]
  },
  {
   "cell_type": "code",
   "execution_count": null,
   "id": "3f505a5c-3cda-4081-8d90-7e9a28d25303",
   "metadata": {},
   "outputs": [],
   "source": [
    "#using credentials\n",
    "import json\n",
    "with open('/Users/noksmchunu/.secret/yelp_api.json') as f: \n",
    "    login = json.load(f)\n",
    "login.keys()\n",
    "\n",
    "# login to yelp\n",
    "from yelpapi import YelpAPI\n",
    "yelp_api = YelpAPI(login['api-key'], timeout_s=5.0)\n",
    "yelp_api\n",
    "\n"
   ]
  },
  {
   "cell_type": "code",
   "execution_count": null,
   "id": "a1708673-24da-4e9c-a2ae-05baa2efd96e",
   "metadata": {},
   "outputs": [],
   "source": [
    "# searching all pizza shop in BALTIMORE \n",
    "results = yelp_api.search_query(location='Baltimore, MD',\n",
    "                                       term='pizza', offset =20)\n",
    "print(type(results))\n",
    "results.keys()\n"
   ]
  },
  {
   "cell_type": "markdown",
   "id": "06428dff-f44c-4822-bea4-382e6a35101d",
   "metadata": {},
   "source": [
    "We have 3 keys to explore but first we will start by region \n",
    "\n",
    "1 Region "
   ]
  },
  {
   "cell_type": "code",
   "execution_count": null,
   "id": "a09cc8ba-fa79-4095-b18f-6432990c6ca0",
   "metadata": {},
   "outputs": [],
   "source": [
    "# getting region type \n",
    "type(results['region'])"
   ]
  },
  {
   "cell_type": "code",
   "execution_count": null,
   "id": "cd261ac3-3dfb-49e4-b616-9604b86681ed",
   "metadata": {},
   "outputs": [],
   "source": [
    "# getting the keys of the region\n",
    "results['region'].keys()"
   ]
  },
  {
   "cell_type": "code",
   "execution_count": 22,
   "id": "6669daed-924c-4d21-9b43-4a2b32f70c0a",
   "metadata": {},
   "outputs": [
    {
     "data": {
      "text/plain": [
       "dict"
      ]
     },
     "execution_count": 22,
     "metadata": {},
     "output_type": "execute_result"
    }
   ],
   "source": [
    "# using the keys to get dictionary of the region\n",
    "type(results['region']['center'])"
   ]
  },
  {
   "cell_type": "code",
   "execution_count": 23,
   "id": "228069b7-3327-42fd-9aa9-389f9614cfa0",
   "metadata": {},
   "outputs": [
    {
     "data": {
      "text/plain": [
       "dict_keys(['longitude', 'latitude'])"
      ]
     },
     "execution_count": 23,
     "metadata": {},
     "output_type": "execute_result"
    }
   ],
   "source": [
    "# what are the keys in center?\n",
    "results['region']['center'].keys()\n"
   ]
  },
  {
   "cell_type": "code",
   "execution_count": 24,
   "id": "5495f9a1-a562-4e2f-b3ea-121a7178c136",
   "metadata": {},
   "outputs": [
    {
     "data": {
      "text/plain": [
       "{'longitude': -76.60903930664062, 'latitude': 39.309286203696686}"
      ]
     },
     "execution_count": 24,
     "metadata": {},
     "output_type": "execute_result"
    }
   ],
   "source": [
    "# Visualize the whole center dict, since lat and long are likely single values\n",
    "results['region']['center']\n"
   ]
  },
  {
   "cell_type": "markdown",
   "id": "10f815d3-3d58-4de0-9ad4-39b05137f7a0",
   "metadata": {},
   "source": [
    "Total"
   ]
  },
  {
   "cell_type": "code",
   "execution_count": 25,
   "id": "6ca714b2-39df-4f7c-8b63-711ed4c333cf",
   "metadata": {},
   "outputs": [
    {
     "data": {
      "text/plain": [
       "int"
      ]
     },
     "execution_count": 25,
     "metadata": {},
     "output_type": "execute_result"
    }
   ],
   "source": [
    "type(results['total'])"
   ]
  },
  {
   "cell_type": "code",
   "execution_count": 26,
   "id": "0d4cf91a-3e90-4cca-a7c3-571cc9e24677",
   "metadata": {},
   "outputs": [
    {
     "data": {
      "text/plain": [
       "1300"
      ]
     },
     "execution_count": 26,
     "metadata": {},
     "output_type": "execute_result"
    }
   ],
   "source": [
    "results['total']"
   ]
  },
  {
   "cell_type": "markdown",
   "id": "69a2d33f-4608-427c-867f-ed4d2e74a312",
   "metadata": {},
   "source": [
    "There are 1300 result from Yelp search"
   ]
  },
  {
   "cell_type": "markdown",
   "id": "1d354f9f-cd78-4e0c-affc-e84dc13ad14b",
   "metadata": {},
   "source": [
    "Explore Business"
   ]
  },
  {
   "cell_type": "code",
   "execution_count": 27,
   "id": "f76400e1-ac3c-4d36-ac74-9cd338fc5710",
   "metadata": {},
   "outputs": [
    {
     "data": {
      "text/plain": [
       "list"
      ]
     },
     "execution_count": 27,
     "metadata": {},
     "output_type": "execute_result"
    }
   ],
   "source": [
    "type(results['businesses'])"
   ]
  },
  {
   "cell_type": "code",
   "execution_count": 28,
   "id": "1e38e2a2-bd07-4a05-a0c7-edc8ad467d3d",
   "metadata": {},
   "outputs": [
    {
     "data": {
      "text/plain": [
       "20"
      ]
     },
     "execution_count": 28,
     "metadata": {},
     "output_type": "execute_result"
    }
   ],
   "source": [
    "len(results['businesses'])"
   ]
  },
  {
   "cell_type": "code",
   "execution_count": 29,
   "id": "ea0c4276-c9f9-408e-ab79-3aa28a7ffd52",
   "metadata": {},
   "outputs": [
    {
     "data": {
      "text/plain": [
       "{'id': '9PgU81DELsu8GaVX8FT45w',\n",
       " 'alias': 'underground-pizza-baltimore-2',\n",
       " 'name': 'Underground Pizza',\n",
       " 'image_url': 'https://s3-media4.fl.yelpcdn.com/bphoto/-mrkDozXlFidWjY678BjuQ/o.jpg',\n",
       " 'is_closed': False,\n",
       " 'url': 'https://www.yelp.com/biz/underground-pizza-baltimore-2?adjust_creative=J0iAPb96t63SPou9rBiO2A&utm_campaign=yelp_api_v3&utm_medium=api_v3_business_search&utm_source=J0iAPb96t63SPou9rBiO2A',\n",
       " 'review_count': 383,\n",
       " 'categories': [{'alias': 'pizza', 'title': 'Pizza'},\n",
       "  {'alias': 'salad', 'title': 'Salad'},\n",
       "  {'alias': 'sandwiches', 'title': 'Sandwiches'}],\n",
       " 'rating': 4.5,\n",
       " 'coordinates': {'latitude': 39.28907, 'longitude': -76.607268},\n",
       " 'transactions': ['delivery'],\n",
       " 'price': '$$',\n",
       " 'location': {'address1': '30 Market Pl',\n",
       "  'address2': '',\n",
       "  'address3': None,\n",
       "  'city': 'Baltimore',\n",
       "  'zip_code': '21202',\n",
       "  'country': 'US',\n",
       "  'state': 'MD',\n",
       "  'display_address': ['30 Market Pl', 'Baltimore, MD 21202']},\n",
       " 'phone': '+14433476190',\n",
       " 'display_phone': '(443) 347-6190',\n",
       " 'distance': 2255.1982960185846}"
      ]
     },
     "execution_count": 29,
     "metadata": {},
     "output_type": "execute_result"
    }
   ],
   "source": [
    "results['businesses'][0]"
   ]
  },
  {
   "cell_type": "code",
   "execution_count": 30,
   "id": "d4700148-12f9-44c0-9368-9a8c2e7b3bb4",
   "metadata": {},
   "outputs": [
    {
     "data": {
      "text/plain": [
       "dict_keys(['id', 'alias', 'name', 'image_url', 'is_closed', 'url', 'review_count', 'categories', 'rating', 'coordinates', 'transactions', 'price', 'location', 'phone', 'display_phone', 'distance'])"
      ]
     },
     "execution_count": 30,
     "metadata": {},
     "output_type": "execute_result"
    }
   ],
   "source": [
    "# getting the keys of the first entry record \n",
    "results['businesses'][0].keys()"
   ]
  },
  {
   "cell_type": "code",
   "execution_count": 31,
   "id": "f7a06213-0783-4354-8a0b-00847f765043",
   "metadata": {},
   "outputs": [
    {
     "data": {
      "text/plain": [
       "dict_keys(['id', 'alias', 'name', 'image_url', 'is_closed', 'url', 'review_count', 'categories', 'rating', 'coordinates', 'transactions', 'price', 'location', 'phone', 'display_phone', 'distance'])"
      ]
     },
     "execution_count": 31,
     "metadata": {},
     "output_type": "execute_result"
    }
   ],
   "source": [
    "# getting the keys of the second entry record \n",
    "results['businesses'][1].keys()"
   ]
  },
  {
   "cell_type": "code",
   "execution_count": 32,
   "id": "9c5b4783-84a5-4ce1-9315-dd5856d29bc0",
   "metadata": {},
   "outputs": [
    {
     "data": {
      "text/html": [
       "<div>\n",
       "<style scoped>\n",
       "    .dataframe tbody tr th:only-of-type {\n",
       "        vertical-align: middle;\n",
       "    }\n",
       "\n",
       "    .dataframe tbody tr th {\n",
       "        vertical-align: top;\n",
       "    }\n",
       "\n",
       "    .dataframe thead th {\n",
       "        text-align: right;\n",
       "    }\n",
       "</style>\n",
       "<table border=\"1\" class=\"dataframe\">\n",
       "  <thead>\n",
       "    <tr style=\"text-align: right;\">\n",
       "      <th></th>\n",
       "      <th>id</th>\n",
       "      <th>alias</th>\n",
       "      <th>name</th>\n",
       "      <th>image_url</th>\n",
       "      <th>is_closed</th>\n",
       "      <th>url</th>\n",
       "      <th>review_count</th>\n",
       "      <th>categories</th>\n",
       "      <th>rating</th>\n",
       "      <th>coordinates</th>\n",
       "      <th>transactions</th>\n",
       "      <th>price</th>\n",
       "      <th>location</th>\n",
       "      <th>phone</th>\n",
       "      <th>display_phone</th>\n",
       "      <th>distance</th>\n",
       "    </tr>\n",
       "  </thead>\n",
       "  <tbody>\n",
       "    <tr>\n",
       "      <th>0</th>\n",
       "      <td>9PgU81DELsu8GaVX8FT45w</td>\n",
       "      <td>underground-pizza-baltimore-2</td>\n",
       "      <td>Underground Pizza</td>\n",
       "      <td>https://s3-media4.fl.yelpcdn.com/bphoto/-mrkDo...</td>\n",
       "      <td>False</td>\n",
       "      <td>https://www.yelp.com/biz/underground-pizza-bal...</td>\n",
       "      <td>383</td>\n",
       "      <td>[{'alias': 'pizza', 'title': 'Pizza'}, {'alias...</td>\n",
       "      <td>4.5</td>\n",
       "      <td>{'latitude': 39.28907, 'longitude': -76.607268}</td>\n",
       "      <td>[delivery]</td>\n",
       "      <td>$$</td>\n",
       "      <td>{'address1': '30 Market Pl', 'address2': '', '...</td>\n",
       "      <td>+14433476190</td>\n",
       "      <td>(443) 347-6190</td>\n",
       "      <td>2255.198296</td>\n",
       "    </tr>\n",
       "    <tr>\n",
       "      <th>1</th>\n",
       "      <td>417YPonNwsTF-LKjGybNGA</td>\n",
       "      <td>angelis-pizzeria-baltimore-2</td>\n",
       "      <td>Angeli's Pizzeria</td>\n",
       "      <td>https://s3-media2.fl.yelpcdn.com/bphoto/z-fARH...</td>\n",
       "      <td>False</td>\n",
       "      <td>https://www.yelp.com/biz/angelis-pizzeria-balt...</td>\n",
       "      <td>407</td>\n",
       "      <td>[{'alias': 'pizza', 'title': 'Pizza'}, {'alias...</td>\n",
       "      <td>4.5</td>\n",
       "      <td>{'latitude': 39.2853676681653, 'longitude': -7...</td>\n",
       "      <td>[delivery, pickup]</td>\n",
       "      <td>$$</td>\n",
       "      <td>{'address1': '413 S High St', 'address2': '', ...</td>\n",
       "      <td>+14437087556</td>\n",
       "      <td>(443) 708-7556</td>\n",
       "      <td>2746.815371</td>\n",
       "    </tr>\n",
       "    <tr>\n",
       "      <th>2</th>\n",
       "      <td>BJrktyd8gy1bPd9flu54RA</td>\n",
       "      <td>isabellas-brick-oven-pizza-and-panini-baltimore</td>\n",
       "      <td>Isabella's Brick Oven Pizza and Panini</td>\n",
       "      <td>https://s3-media1.fl.yelpcdn.com/bphoto/hhrPi1...</td>\n",
       "      <td>False</td>\n",
       "      <td>https://www.yelp.com/biz/isabellas-brick-oven-...</td>\n",
       "      <td>591</td>\n",
       "      <td>[{'alias': 'italian', 'title': 'Italian'}, {'a...</td>\n",
       "      <td>4.5</td>\n",
       "      <td>{'latitude': 39.2870444, 'longitude': -76.6020...</td>\n",
       "      <td>[delivery, pickup]</td>\n",
       "      <td>$$</td>\n",
       "      <td>{'address1': '221 S High St', 'address2': '', ...</td>\n",
       "      <td>+14109628888</td>\n",
       "      <td>(410) 962-8888</td>\n",
       "      <td>2544.246639</td>\n",
       "    </tr>\n",
       "    <tr>\n",
       "      <th>3</th>\n",
       "      <td>4YQR0ZTvaR-L3Qs9gU-Qfg</td>\n",
       "      <td>paulie-gees-hampden-baltimore-3</td>\n",
       "      <td>Paulie Gee's Hampden</td>\n",
       "      <td>https://s3-media3.fl.yelpcdn.com/bphoto/osB_N9...</td>\n",
       "      <td>False</td>\n",
       "      <td>https://www.yelp.com/biz/paulie-gees-hampden-b...</td>\n",
       "      <td>391</td>\n",
       "      <td>[{'alias': 'pizza', 'title': 'Pizza'}, {'alias...</td>\n",
       "      <td>4.0</td>\n",
       "      <td>{'latitude': 39.33076647275185, 'longitude': -...</td>\n",
       "      <td>[delivery, pickup]</td>\n",
       "      <td>$$</td>\n",
       "      <td>{'address1': '3535 Chestnut Ave', 'address2': ...</td>\n",
       "      <td>+14108891048</td>\n",
       "      <td>(410) 889-1048</td>\n",
       "      <td>2939.615046</td>\n",
       "    </tr>\n",
       "    <tr>\n",
       "      <th>4</th>\n",
       "      <td>fai58PHxZKmdxlN2VMF0EQ</td>\n",
       "      <td>little-donna-s-baltimore</td>\n",
       "      <td>Little Donna’s</td>\n",
       "      <td>https://s3-media4.fl.yelpcdn.com/bphoto/udpVXr...</td>\n",
       "      <td>False</td>\n",
       "      <td>https://www.yelp.com/biz/little-donna-s-baltim...</td>\n",
       "      <td>56</td>\n",
       "      <td>[{'alias': 'pizza', 'title': 'Pizza'}, {'alias...</td>\n",
       "      <td>4.5</td>\n",
       "      <td>{'latitude': 39.28691, 'longitude': -76.59078}</td>\n",
       "      <td>[]</td>\n",
       "      <td>NaN</td>\n",
       "      <td>{'address1': '1812 Bank St', 'address2': None,...</td>\n",
       "      <td>+14434383956</td>\n",
       "      <td>(443) 438-3956</td>\n",
       "      <td>2937.893420</td>\n",
       "    </tr>\n",
       "  </tbody>\n",
       "</table>\n",
       "</div>"
      ],
      "text/plain": [
       "                       id                                            alias  \\\n",
       "0  9PgU81DELsu8GaVX8FT45w                    underground-pizza-baltimore-2   \n",
       "1  417YPonNwsTF-LKjGybNGA                     angelis-pizzeria-baltimore-2   \n",
       "2  BJrktyd8gy1bPd9flu54RA  isabellas-brick-oven-pizza-and-panini-baltimore   \n",
       "3  4YQR0ZTvaR-L3Qs9gU-Qfg                  paulie-gees-hampden-baltimore-3   \n",
       "4  fai58PHxZKmdxlN2VMF0EQ                         little-donna-s-baltimore   \n",
       "\n",
       "                                     name  \\\n",
       "0                       Underground Pizza   \n",
       "1                       Angeli's Pizzeria   \n",
       "2  Isabella's Brick Oven Pizza and Panini   \n",
       "3                    Paulie Gee's Hampden   \n",
       "4                          Little Donna’s   \n",
       "\n",
       "                                           image_url  is_closed  \\\n",
       "0  https://s3-media4.fl.yelpcdn.com/bphoto/-mrkDo...      False   \n",
       "1  https://s3-media2.fl.yelpcdn.com/bphoto/z-fARH...      False   \n",
       "2  https://s3-media1.fl.yelpcdn.com/bphoto/hhrPi1...      False   \n",
       "3  https://s3-media3.fl.yelpcdn.com/bphoto/osB_N9...      False   \n",
       "4  https://s3-media4.fl.yelpcdn.com/bphoto/udpVXr...      False   \n",
       "\n",
       "                                                 url  review_count  \\\n",
       "0  https://www.yelp.com/biz/underground-pizza-bal...           383   \n",
       "1  https://www.yelp.com/biz/angelis-pizzeria-balt...           407   \n",
       "2  https://www.yelp.com/biz/isabellas-brick-oven-...           591   \n",
       "3  https://www.yelp.com/biz/paulie-gees-hampden-b...           391   \n",
       "4  https://www.yelp.com/biz/little-donna-s-baltim...            56   \n",
       "\n",
       "                                          categories  rating  \\\n",
       "0  [{'alias': 'pizza', 'title': 'Pizza'}, {'alias...     4.5   \n",
       "1  [{'alias': 'pizza', 'title': 'Pizza'}, {'alias...     4.5   \n",
       "2  [{'alias': 'italian', 'title': 'Italian'}, {'a...     4.5   \n",
       "3  [{'alias': 'pizza', 'title': 'Pizza'}, {'alias...     4.0   \n",
       "4  [{'alias': 'pizza', 'title': 'Pizza'}, {'alias...     4.5   \n",
       "\n",
       "                                         coordinates        transactions  \\\n",
       "0    {'latitude': 39.28907, 'longitude': -76.607268}          [delivery]   \n",
       "1  {'latitude': 39.2853676681653, 'longitude': -7...  [delivery, pickup]   \n",
       "2  {'latitude': 39.2870444, 'longitude': -76.6020...  [delivery, pickup]   \n",
       "3  {'latitude': 39.33076647275185, 'longitude': -...  [delivery, pickup]   \n",
       "4     {'latitude': 39.28691, 'longitude': -76.59078}                  []   \n",
       "\n",
       "  price                                           location         phone  \\\n",
       "0    $$  {'address1': '30 Market Pl', 'address2': '', '...  +14433476190   \n",
       "1    $$  {'address1': '413 S High St', 'address2': '', ...  +14437087556   \n",
       "2    $$  {'address1': '221 S High St', 'address2': '', ...  +14109628888   \n",
       "3    $$  {'address1': '3535 Chestnut Ave', 'address2': ...  +14108891048   \n",
       "4   NaN  {'address1': '1812 Bank St', 'address2': None,...  +14434383956   \n",
       "\n",
       "    display_phone     distance  \n",
       "0  (443) 347-6190  2255.198296  \n",
       "1  (443) 708-7556  2746.815371  \n",
       "2  (410) 962-8888  2544.246639  \n",
       "3  (410) 889-1048  2939.615046  \n",
       "4  (443) 438-3956  2937.893420  "
      ]
     },
     "execution_count": 32,
     "metadata": {},
     "output_type": "execute_result"
    }
   ],
   "source": [
    "# assign the list into a dataframe \n",
    "import pandas as pd\n",
    "df_businesses = pd.DataFrame(results['businesses'])\n",
    "df_businesses.head()\n"
   ]
  },
  {
   "cell_type": "code",
   "execution_count": 36,
   "id": "a634bfda-6af8-4627-aa24-440db48ddbc0",
   "metadata": {},
   "outputs": [],
   "source": [
    "recordsoriented= df_businesses.to_json(orient='records')"
   ]
  },
  {
   "cell_type": "code",
   "execution_count": null,
   "id": "c500e14d-df7a-45d8-acca-c964c259cb47",
   "metadata": {},
   "outputs": [],
   "source": []
  },
  {
   "cell_type": "code",
   "execution_count": null,
   "id": "55887e5a-702e-4441-a809-452cb0efb736",
   "metadata": {},
   "outputs": [],
   "source": []
  }
 ],
 "metadata": {
  "kernelspec": {
   "display_name": "Python 3 (ipykernel)",
   "language": "python",
   "name": "python3"
  },
  "language_info": {
   "codemirror_mode": {
    "name": "ipython",
    "version": 3
   },
   "file_extension": ".py",
   "mimetype": "text/x-python",
   "name": "python",
   "nbconvert_exporter": "python",
   "pygments_lexer": "ipython3",
   "version": "3.10.10"
  },
  "widgets": {
   "application/vnd.jupyter.widget-state+json": {
    "state": {},
    "version_major": 2,
    "version_minor": 0
   }
  }
 },
 "nbformat": 4,
 "nbformat_minor": 5
}
