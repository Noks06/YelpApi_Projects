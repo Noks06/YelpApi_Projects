{
 "cells": [
  {
   "cell_type": "markdown",
   "id": "8635aecb-f876-4951-8dc0-9f53e0e5110b",
   "metadata": {},
   "source": [
    "# Using Yelp Practice \n",
    "Nokuthula Mchunu"
   ]
  },
  {
   "cell_type": "code",
   "execution_count": 37,
   "id": "3f505a5c-3cda-4081-8d90-7e9a28d25303",
   "metadata": {},
   "outputs": [
    {
     "data": {
      "text/plain": [
       "<yelpapi.yelpapi.YelpAPI at 0x104ac9de0>"
      ]
     },
     "execution_count": 37,
     "metadata": {},
     "output_type": "execute_result"
    }
   ],
   "source": [
    "#using credentials\n",
    "import json\n",
    "with open('/Users/noksmchunu/.secret/yelp_api.json') as f: \n",
    "    login = json.load(f)\n",
    "login.keys()\n",
    "\n",
    "# login to yelp\n",
    "from yelpapi import YelpAPI\n",
    "yelp_api = YelpAPI(login['api-key'], timeout_s=5.0)\n",
    "yelp_api\n",
    "\n"
   ]
  },
  {
   "cell_type": "code",
   "execution_count": 38,
   "id": "a1708673-24da-4e9c-a2ae-05baa2efd96e",
   "metadata": {},
   "outputs": [
    {
     "name": "stdout",
     "output_type": "stream",
     "text": [
      "<class 'dict'>\n"
     ]
    },
    {
     "data": {
      "text/plain": [
       "dict_keys(['businesses', 'total', 'region'])"
      ]
     },
     "execution_count": 38,
     "metadata": {},
     "output_type": "execute_result"
    }
   ],
   "source": [
    "# searching all pizza shop in BALTIMORE \n",
    "results = yelp_api.search_query(location='Baltimore, MD',\n",
    "                                       term='pizza', offset =20)\n",
    "print(type(results))\n",
    "results.keys()\n"
   ]
  },
  {
   "cell_type": "markdown",
   "id": "06428dff-f44c-4822-bea4-382e6a35101d",
   "metadata": {},
   "source": [
    "We have 3 keys to explore but first we will start by region \n",
    "\n",
    "1 Region "
   ]
  },
  {
   "cell_type": "code",
   "execution_count": 39,
   "id": "a09cc8ba-fa79-4095-b18f-6432990c6ca0",
   "metadata": {},
   "outputs": [
    {
     "data": {
      "text/plain": [
       "dict"
      ]
     },
     "execution_count": 39,
     "metadata": {},
     "output_type": "execute_result"
    }
   ],
   "source": [
    "# getting region type \n",
    "type(results['region'])"
   ]
  },
  {
   "cell_type": "code",
   "execution_count": 40,
   "id": "cd261ac3-3dfb-49e4-b616-9604b86681ed",
   "metadata": {},
   "outputs": [
    {
     "data": {
      "text/plain": [
       "dict_keys(['center'])"
      ]
     },
     "execution_count": 40,
     "metadata": {},
     "output_type": "execute_result"
    }
   ],
   "source": [
    "# getting the keys of the region\n",
    "results['region'].keys()"
   ]
  },
  {
   "cell_type": "code",
   "execution_count": 41,
   "id": "6669daed-924c-4d21-9b43-4a2b32f70c0a",
   "metadata": {},
   "outputs": [
    {
     "data": {
      "text/plain": [
       "dict"
      ]
     },
     "execution_count": 41,
     "metadata": {},
     "output_type": "execute_result"
    }
   ],
   "source": [
    "# using the keys to get dictionary of the region\n",
    "type(results['region']['center'])"
   ]
  },
  {
   "cell_type": "code",
   "execution_count": 42,
   "id": "228069b7-3327-42fd-9aa9-389f9614cfa0",
   "metadata": {},
   "outputs": [
    {
     "data": {
      "text/plain": [
       "dict_keys(['longitude', 'latitude'])"
      ]
     },
     "execution_count": 42,
     "metadata": {},
     "output_type": "execute_result"
    }
   ],
   "source": [
    "# what are the keys in center?\n",
    "results['region']['center'].keys()\n"
   ]
  },
  {
   "cell_type": "code",
   "execution_count": 43,
   "id": "5495f9a1-a562-4e2f-b3ea-121a7178c136",
   "metadata": {},
   "outputs": [
    {
     "data": {
      "text/plain": [
       "{'longitude': -76.60903930664062, 'latitude': 39.309286203696686}"
      ]
     },
     "execution_count": 43,
     "metadata": {},
     "output_type": "execute_result"
    }
   ],
   "source": [
    "# Visualize the whole center dict, since lat and long are likely single values\n",
    "results['region']['center']\n"
   ]
  },
  {
   "cell_type": "markdown",
   "id": "10f815d3-3d58-4de0-9ad4-39b05137f7a0",
   "metadata": {},
   "source": [
    "Total"
   ]
  },
  {
   "cell_type": "code",
   "execution_count": 44,
   "id": "6ca714b2-39df-4f7c-8b63-711ed4c333cf",
   "metadata": {},
   "outputs": [
    {
     "data": {
      "text/plain": [
       "int"
      ]
     },
     "execution_count": 44,
     "metadata": {},
     "output_type": "execute_result"
    }
   ],
   "source": [
    "type(results['total'])"
   ]
  },
  {
   "cell_type": "code",
   "execution_count": 45,
   "id": "0d4cf91a-3e90-4cca-a7c3-571cc9e24677",
   "metadata": {},
   "outputs": [
    {
     "data": {
      "text/plain": [
       "1300"
      ]
     },
     "execution_count": 45,
     "metadata": {},
     "output_type": "execute_result"
    }
   ],
   "source": [
    "results['total']"
   ]
  },
  {
   "cell_type": "markdown",
   "id": "69a2d33f-4608-427c-867f-ed4d2e74a312",
   "metadata": {},
   "source": [
    "There are 1300 result from Yelp search"
   ]
  },
  {
   "cell_type": "markdown",
   "id": "1d354f9f-cd78-4e0c-affc-e84dc13ad14b",
   "metadata": {},
   "source": [
    "Explore Business"
   ]
  },
  {
   "cell_type": "code",
   "execution_count": 46,
   "id": "f76400e1-ac3c-4d36-ac74-9cd338fc5710",
   "metadata": {},
   "outputs": [
    {
     "data": {
      "text/plain": [
       "list"
      ]
     },
     "execution_count": 46,
     "metadata": {},
     "output_type": "execute_result"
    }
   ],
   "source": [
    "type(results['businesses'])"
   ]
  },
  {
   "cell_type": "code",
   "execution_count": 47,
   "id": "1e38e2a2-bd07-4a05-a0c7-edc8ad467d3d",
   "metadata": {},
   "outputs": [
    {
     "data": {
      "text/plain": [
       "20"
      ]
     },
     "execution_count": 47,
     "metadata": {},
     "output_type": "execute_result"
    }
   ],
   "source": [
    "len(results['businesses'])"
   ]
  },
  {
   "cell_type": "code",
   "execution_count": 48,
   "id": "ea0c4276-c9f9-408e-ab79-3aa28a7ffd52",
   "metadata": {},
   "outputs": [
    {
     "data": {
      "text/plain": [
       "{'id': 'iLkezfaMOU6qVk1GUGYN1w',\n",
       " 'alias': 'birroteca-baltimore-baltimore-2',\n",
       " 'name': 'Birroteca Baltimore',\n",
       " 'image_url': 'https://s3-media1.fl.yelpcdn.com/bphoto/_vzHN3gIUP8JUriKN19v6Q/o.jpg',\n",
       " 'is_closed': False,\n",
       " 'url': 'https://www.yelp.com/biz/birroteca-baltimore-baltimore-2?adjust_creative=J0iAPb96t63SPou9rBiO2A&utm_campaign=yelp_api_v3&utm_medium=api_v3_business_search&utm_source=J0iAPb96t63SPou9rBiO2A',\n",
       " 'review_count': 606,\n",
       " 'categories': [{'alias': 'italian', 'title': 'Italian'},\n",
       "  {'alias': 'pizza', 'title': 'Pizza'},\n",
       "  {'alias': 'bars', 'title': 'Bars'}],\n",
       " 'rating': 4.0,\n",
       " 'coordinates': {'latitude': 39.32751, 'longitude': -76.639487},\n",
       " 'transactions': ['delivery', 'pickup'],\n",
       " 'price': '$$',\n",
       " 'location': {'address1': '1520 Clipper Rd',\n",
       "  'address2': '',\n",
       "  'address3': '',\n",
       "  'city': 'Baltimore',\n",
       "  'zip_code': '21211',\n",
       "  'country': 'US',\n",
       "  'state': 'MD',\n",
       "  'display_address': ['1520 Clipper Rd', 'Baltimore, MD 21211']},\n",
       " 'phone': '+14437595178',\n",
       " 'display_phone': '(443) 759-5178',\n",
       " 'distance': 3309.5852680173507}"
      ]
     },
     "execution_count": 48,
     "metadata": {},
     "output_type": "execute_result"
    }
   ],
   "source": [
    "results['businesses'][0]"
   ]
  },
  {
   "cell_type": "code",
   "execution_count": 49,
   "id": "d4700148-12f9-44c0-9368-9a8c2e7b3bb4",
   "metadata": {},
   "outputs": [
    {
     "data": {
      "text/plain": [
       "dict_keys(['id', 'alias', 'name', 'image_url', 'is_closed', 'url', 'review_count', 'categories', 'rating', 'coordinates', 'transactions', 'price', 'location', 'phone', 'display_phone', 'distance'])"
      ]
     },
     "execution_count": 49,
     "metadata": {},
     "output_type": "execute_result"
    }
   ],
   "source": [
    "# getting the keys of the first entry record \n",
    "results['businesses'][0].keys()"
   ]
  },
  {
   "cell_type": "code",
   "execution_count": 50,
   "id": "f7a06213-0783-4354-8a0b-00847f765043",
   "metadata": {},
   "outputs": [
    {
     "data": {
      "text/plain": [
       "dict_keys(['id', 'alias', 'name', 'image_url', 'is_closed', 'url', 'review_count', 'categories', 'rating', 'coordinates', 'transactions', 'price', 'location', 'phone', 'display_phone', 'distance'])"
      ]
     },
     "execution_count": 50,
     "metadata": {},
     "output_type": "execute_result"
    }
   ],
   "source": [
    "# getting the keys of the second entry record \n",
    "results['businesses'][1].keys()"
   ]
  },
  {
   "cell_type": "code",
   "execution_count": 51,
   "id": "9c5b4783-84a5-4ce1-9315-dd5856d29bc0",
   "metadata": {
    "scrolled": true
   },
   "outputs": [
    {
     "data": {
      "text/html": [
       "<div>\n",
       "<style scoped>\n",
       "    .dataframe tbody tr th:only-of-type {\n",
       "        vertical-align: middle;\n",
       "    }\n",
       "\n",
       "    .dataframe tbody tr th {\n",
       "        vertical-align: top;\n",
       "    }\n",
       "\n",
       "    .dataframe thead th {\n",
       "        text-align: right;\n",
       "    }\n",
       "</style>\n",
       "<table border=\"1\" class=\"dataframe\">\n",
       "  <thead>\n",
       "    <tr style=\"text-align: right;\">\n",
       "      <th></th>\n",
       "      <th>id</th>\n",
       "      <th>alias</th>\n",
       "      <th>name</th>\n",
       "      <th>image_url</th>\n",
       "      <th>is_closed</th>\n",
       "      <th>url</th>\n",
       "      <th>review_count</th>\n",
       "      <th>categories</th>\n",
       "      <th>rating</th>\n",
       "      <th>coordinates</th>\n",
       "      <th>transactions</th>\n",
       "      <th>price</th>\n",
       "      <th>location</th>\n",
       "      <th>phone</th>\n",
       "      <th>display_phone</th>\n",
       "      <th>distance</th>\n",
       "    </tr>\n",
       "  </thead>\n",
       "  <tbody>\n",
       "    <tr>\n",
       "      <th>0</th>\n",
       "      <td>iLkezfaMOU6qVk1GUGYN1w</td>\n",
       "      <td>birroteca-baltimore-baltimore-2</td>\n",
       "      <td>Birroteca Baltimore</td>\n",
       "      <td>https://s3-media1.fl.yelpcdn.com/bphoto/_vzHN3...</td>\n",
       "      <td>False</td>\n",
       "      <td>https://www.yelp.com/biz/birroteca-baltimore-b...</td>\n",
       "      <td>606</td>\n",
       "      <td>[{'alias': 'italian', 'title': 'Italian'}, {'a...</td>\n",
       "      <td>4.0</td>\n",
       "      <td>{'latitude': 39.32751, 'longitude': -76.639487}</td>\n",
       "      <td>[delivery, pickup]</td>\n",
       "      <td>$$</td>\n",
       "      <td>{'address1': '1520 Clipper Rd', 'address2': ''...</td>\n",
       "      <td>+14437595178</td>\n",
       "      <td>(443) 759-5178</td>\n",
       "      <td>3309.585268</td>\n",
       "    </tr>\n",
       "    <tr>\n",
       "      <th>1</th>\n",
       "      <td>zOyO4i_UdwDrwtguwW-iOA</td>\n",
       "      <td>franks-pizza-and-pasta-baltimore</td>\n",
       "      <td>Frank's Pizza &amp; Pasta</td>\n",
       "      <td>https://s3-media3.fl.yelpcdn.com/bphoto/uFxzMc...</td>\n",
       "      <td>False</td>\n",
       "      <td>https://www.yelp.com/biz/franks-pizza-and-past...</td>\n",
       "      <td>152</td>\n",
       "      <td>[{'alias': 'pizza', 'title': 'Pizza'}, {'alias...</td>\n",
       "      <td>4.0</td>\n",
       "      <td>{'latitude': 39.354537, 'longitude': -76.531686}</td>\n",
       "      <td>[pickup, delivery]</td>\n",
       "      <td>$</td>\n",
       "      <td>{'address1': '6620 Belair Rd', 'address2': '',...</td>\n",
       "      <td>+14102542900</td>\n",
       "      <td>(410) 254-2900</td>\n",
       "      <td>8341.447208</td>\n",
       "    </tr>\n",
       "    <tr>\n",
       "      <th>2</th>\n",
       "      <td>H7AarefD3889u3DpqSEI3w</td>\n",
       "      <td>the-arthouse-baltimore</td>\n",
       "      <td>The Arthouse</td>\n",
       "      <td>https://s3-media4.fl.yelpcdn.com/bphoto/gYW32p...</td>\n",
       "      <td>False</td>\n",
       "      <td>https://www.yelp.com/biz/the-arthouse-baltimor...</td>\n",
       "      <td>191</td>\n",
       "      <td>[{'alias': 'wine_bars', 'title': 'Wine Bars'},...</td>\n",
       "      <td>4.0</td>\n",
       "      <td>{'latitude': 39.3308299, 'longitude': -76.6343...</td>\n",
       "      <td>[delivery, pickup]</td>\n",
       "      <td>$$</td>\n",
       "      <td>{'address1': '1115 W 36th St', 'address2': '',...</td>\n",
       "      <td>+14434387700</td>\n",
       "      <td>(443) 438-7700</td>\n",
       "      <td>3235.935547</td>\n",
       "    </tr>\n",
       "    <tr>\n",
       "      <th>3</th>\n",
       "      <td>lI98JNKyib_IHEmCZ7WZkg</td>\n",
       "      <td>hershs-baltimore-2</td>\n",
       "      <td>Hersh's</td>\n",
       "      <td>https://s3-media1.fl.yelpcdn.com/bphoto/RQhEq-...</td>\n",
       "      <td>False</td>\n",
       "      <td>https://www.yelp.com/biz/hershs-baltimore-2?ad...</td>\n",
       "      <td>359</td>\n",
       "      <td>[{'alias': 'pizza', 'title': 'Pizza'}, {'alias...</td>\n",
       "      <td>4.5</td>\n",
       "      <td>{'latitude': 39.26863, 'longitude': -76.61166}</td>\n",
       "      <td>[delivery]</td>\n",
       "      <td>$$</td>\n",
       "      <td>{'address1': '1843-45 Light St', 'address2': '...</td>\n",
       "      <td>+14434384948</td>\n",
       "      <td>(443) 438-4948</td>\n",
       "      <td>4525.145282</td>\n",
       "    </tr>\n",
       "    <tr>\n",
       "      <th>4</th>\n",
       "      <td>jfAu5sajUS5BphxYUgfrDA</td>\n",
       "      <td>baltoz-bakery-and-cafe-baltimore</td>\n",
       "      <td>Baltoz Bakery and Cafe</td>\n",
       "      <td>https://s3-media4.fl.yelpcdn.com/bphoto/eEPQBS...</td>\n",
       "      <td>False</td>\n",
       "      <td>https://www.yelp.com/biz/baltoz-bakery-and-caf...</td>\n",
       "      <td>18</td>\n",
       "      <td>[{'alias': 'cafes', 'title': 'Cafes'}, {'alias...</td>\n",
       "      <td>4.5</td>\n",
       "      <td>{'latitude': 39.37714655805005, 'longitude': -...</td>\n",
       "      <td>[]</td>\n",
       "      <td>NaN</td>\n",
       "      <td>{'address1': '6709 York Rd', 'address2': '', '...</td>\n",
       "      <td></td>\n",
       "      <td></td>\n",
       "      <td>7545.819582</td>\n",
       "    </tr>\n",
       "  </tbody>\n",
       "</table>\n",
       "</div>"
      ],
      "text/plain": [
       "                       id                             alias  \\\n",
       "0  iLkezfaMOU6qVk1GUGYN1w   birroteca-baltimore-baltimore-2   \n",
       "1  zOyO4i_UdwDrwtguwW-iOA  franks-pizza-and-pasta-baltimore   \n",
       "2  H7AarefD3889u3DpqSEI3w            the-arthouse-baltimore   \n",
       "3  lI98JNKyib_IHEmCZ7WZkg                hershs-baltimore-2   \n",
       "4  jfAu5sajUS5BphxYUgfrDA  baltoz-bakery-and-cafe-baltimore   \n",
       "\n",
       "                     name                                          image_url  \\\n",
       "0     Birroteca Baltimore  https://s3-media1.fl.yelpcdn.com/bphoto/_vzHN3...   \n",
       "1   Frank's Pizza & Pasta  https://s3-media3.fl.yelpcdn.com/bphoto/uFxzMc...   \n",
       "2            The Arthouse  https://s3-media4.fl.yelpcdn.com/bphoto/gYW32p...   \n",
       "3                 Hersh's  https://s3-media1.fl.yelpcdn.com/bphoto/RQhEq-...   \n",
       "4  Baltoz Bakery and Cafe  https://s3-media4.fl.yelpcdn.com/bphoto/eEPQBS...   \n",
       "\n",
       "   is_closed                                                url  review_count  \\\n",
       "0      False  https://www.yelp.com/biz/birroteca-baltimore-b...           606   \n",
       "1      False  https://www.yelp.com/biz/franks-pizza-and-past...           152   \n",
       "2      False  https://www.yelp.com/biz/the-arthouse-baltimor...           191   \n",
       "3      False  https://www.yelp.com/biz/hershs-baltimore-2?ad...           359   \n",
       "4      False  https://www.yelp.com/biz/baltoz-bakery-and-caf...            18   \n",
       "\n",
       "                                          categories  rating  \\\n",
       "0  [{'alias': 'italian', 'title': 'Italian'}, {'a...     4.0   \n",
       "1  [{'alias': 'pizza', 'title': 'Pizza'}, {'alias...     4.0   \n",
       "2  [{'alias': 'wine_bars', 'title': 'Wine Bars'},...     4.0   \n",
       "3  [{'alias': 'pizza', 'title': 'Pizza'}, {'alias...     4.5   \n",
       "4  [{'alias': 'cafes', 'title': 'Cafes'}, {'alias...     4.5   \n",
       "\n",
       "                                         coordinates        transactions  \\\n",
       "0    {'latitude': 39.32751, 'longitude': -76.639487}  [delivery, pickup]   \n",
       "1   {'latitude': 39.354537, 'longitude': -76.531686}  [pickup, delivery]   \n",
       "2  {'latitude': 39.3308299, 'longitude': -76.6343...  [delivery, pickup]   \n",
       "3     {'latitude': 39.26863, 'longitude': -76.61166}          [delivery]   \n",
       "4  {'latitude': 39.37714655805005, 'longitude': -...                  []   \n",
       "\n",
       "  price                                           location         phone  \\\n",
       "0    $$  {'address1': '1520 Clipper Rd', 'address2': ''...  +14437595178   \n",
       "1     $  {'address1': '6620 Belair Rd', 'address2': '',...  +14102542900   \n",
       "2    $$  {'address1': '1115 W 36th St', 'address2': '',...  +14434387700   \n",
       "3    $$  {'address1': '1843-45 Light St', 'address2': '...  +14434384948   \n",
       "4   NaN  {'address1': '6709 York Rd', 'address2': '', '...                 \n",
       "\n",
       "    display_phone     distance  \n",
       "0  (443) 759-5178  3309.585268  \n",
       "1  (410) 254-2900  8341.447208  \n",
       "2  (443) 438-7700  3235.935547  \n",
       "3  (443) 438-4948  4525.145282  \n",
       "4                  7545.819582  "
      ]
     },
     "execution_count": 51,
     "metadata": {},
     "output_type": "execute_result"
    }
   ],
   "source": [
    "# assign the list into a dataframe \n",
    "import pandas as pd\n",
    "df_businesses = pd.DataFrame(results['businesses'])\n",
    "df_businesses.head()\n"
   ]
  },
  {
   "cell_type": "code",
   "execution_count": 52,
   "id": "a634bfda-6af8-4627-aa24-440db48ddbc0",
   "metadata": {},
   "outputs": [],
   "source": [
    "recordsoriented= df_businesses.to_json(orient='records')"
   ]
  },
  {
   "cell_type": "code",
   "execution_count": null,
   "id": "c500e14d-df7a-45d8-acca-c964c259cb47",
   "metadata": {},
   "outputs": [],
   "source": []
  },
  {
   "cell_type": "code",
   "execution_count": null,
   "id": "55887e5a-702e-4441-a809-452cb0efb736",
   "metadata": {},
   "outputs": [],
   "source": []
  }
 ],
 "metadata": {
  "kernelspec": {
   "display_name": "Python 3 (ipykernel)",
   "language": "python",
   "name": "python3"
  },
  "language_info": {
   "codemirror_mode": {
    "name": "ipython",
    "version": 3
   },
   "file_extension": ".py",
   "mimetype": "text/x-python",
   "name": "python",
   "nbconvert_exporter": "python",
   "pygments_lexer": "ipython3",
   "version": "3.10.10"
  },
  "widgets": {
   "application/vnd.jupyter.widget-state+json": {
    "state": {},
    "version_major": 2,
    "version_minor": 0
   }
  }
 },
 "nbformat": 4,
 "nbformat_minor": 5
}
